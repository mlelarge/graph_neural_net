{
  "cells": [
    {
      "cell_type": "markdown",
      "metadata": {
        "id": "view-in-github",
        "colab_type": "text"
      },
      "source": [
        "<a href=\"https://colab.research.google.com/github/mlelarge/graph_neural_net/blob/main/plot_accuracy_regular.ipynb\" target=\"_parent\"><img src=\"https://colab.research.google.com/assets/colab-badge.svg\" alt=\"Open In Colab\"/></a>"
      ]
    },
    {
      "cell_type": "code",
      "source": [
        "# If running on Colab, uncomment the code below:\n",
        "#!git clone https://github.com/mlelarge/graph_neural_net.git\n",
        "#!pip install lightning\n",
        "#%cd graph_neural_net"
      ],
      "metadata": {
        "id": "7pu5pDuUHako",
        "outputId": "c6b3849d-ad8d-4da1-d219-c68c3f4da9aa",
        "colab": {
          "base_uri": "https://localhost:8080/"
        }
      },
      "id": "7pu5pDuUHako",
      "execution_count": 1,
      "outputs": [
        {
          "output_type": "stream",
          "name": "stdout",
          "text": [
            "/content/graph_neural_net\n"
          ]
        }
      ]
    },
    {
      "cell_type": "code",
      "execution_count": 2,
      "id": "245b4687",
      "metadata": {
        "id": "245b4687"
      },
      "outputs": [],
      "source": [
        "import os\n",
        "from pathlib import Path\n",
        "import json\n",
        "import numpy as np\n",
        "import torch\n",
        "import matplotlib.pyplot as plt\n",
        "\n",
        "import pytorch_lightning as pl\n",
        "from models import get_siamese_model_test\n",
        "import loaders.data_generator as dg\n",
        "from loaders.loaders import siamese_loader\n",
        "from toolbox.utils import check_dir\n",
        "import loaders.data_generator as dg\n",
        "from loaders.loaders import siamese_loader\n",
        "\n",
        "ROOT_DIR = Path.home()\n",
        "path_dataset = os.path.join(ROOT_DIR, 'data/')\n",
        "\n",
        "from toolbox.metrics import all_losses_acc, accuracy_linear_assignment\n",
        "from toolbox.losses import triplet_loss\n",
        "\n",
        "criterion = triplet_loss()"
      ]
    },
    {
      "cell_type": "markdown",
      "id": "2c7b53c3",
      "metadata": {
        "id": "2c7b53c3"
      },
      "source": [
        "# Downloading the pretrained model\n",
        "\n",
        "The cell below should only be run once, it creates a folder `downloads/` and then downloads in this folder the pretrained model and the configuration file."
      ]
    },
    {
      "cell_type": "code",
      "execution_count": 3,
      "id": "d43f0179",
      "metadata": {
        "id": "d43f0179"
      },
      "outputs": [],
      "source": [
        "import requests\n",
        "config_url = 'https://github.com/mlelarge/graph_neural_net/releases/download/v1-qap/config.json'\n",
        "model_url = 'https://github.com/mlelarge/graph_neural_net/releases/download/v1-qap/epoch.98-step.7821.ckpt'\n",
        "cwd = os.getcwd()\n",
        "downloads = os.path.join(cwd, 'downloads')\n",
        "check_dir(downloads)\n",
        "\n",
        "r = requests.get(config_url)\n",
        "with open(cwd+'/downloads/config.json', 'wb') as f:\n",
        "    f.write(r.content)\n",
        "\n",
        "r = requests.get(model_url)\n",
        "with open(cwd+'/downloads/epoch.98-step.7821.ckpt', 'wb') as f:\n",
        "    f.write(r.content)\n",
        ""
      ]
    },
    {
      "cell_type": "code",
      "execution_count": 4,
      "id": "4a1497fa",
      "metadata": {
        "id": "4a1497fa"
      },
      "outputs": [],
      "source": [
        "name = cwd+'/downloads/epoch.98-step.7821.ckpt'\n",
        "path = cwd+'/downloads/'"
      ]
    },
    {
      "cell_type": "code",
      "execution_count": 5,
      "id": "fe9083af",
      "metadata": {
        "id": "fe9083af"
      },
      "outputs": [],
      "source": [
        "def get_device_config(path):\n",
        "    config_file = os.path.join(path,'config.json')\n",
        "    with open(config_file) as json_file:\n",
        "        config_model = json.load(json_file)\n",
        "    use_cuda = not config_model['cpu'] and torch.cuda.is_available()\n",
        "    device = 'cuda' if use_cuda else 'cpu'\n",
        "    return config_model, device"
      ]
    },
    {
      "cell_type": "code",
      "execution_count": 6,
      "id": "c95fc627",
      "metadata": {
        "id": "c95fc627"
      },
      "outputs": [],
      "source": [
        "config_model, device = get_device_config(path)"
      ]
    },
    {
      "cell_type": "code",
      "execution_count": 7,
      "id": "650423d8",
      "metadata": {
        "id": "650423d8",
        "outputId": "57edce5c-f30c-4a9c-9429-deeeb776f27f",
        "colab": {
          "base_uri": "https://localhost:8080/"
        }
      },
      "outputs": [
        {
          "output_type": "stream",
          "name": "stderr",
          "text": [
            "INFO:pytorch_lightning.utilities.migration.utils:Lightning automatically upgraded your loaded checkpoint from v1.9.0 to v2.0.7. To apply the upgrade to your files permanently, run `python -m pytorch_lightning.utilities.upgrade_checkpoint --file downloads/epoch.98-step.7821.ckpt`\n"
          ]
        }
      ],
      "source": [
        "model = get_siamese_model_test(name, config_model)"
      ]
    },
    {
      "cell_type": "code",
      "execution_count": 8,
      "id": "ee2981c1",
      "metadata": {
        "id": "ee2981c1"
      },
      "outputs": [],
      "source": [
        "config_data = config_model['data']"
      ]
    },
    {
      "cell_type": "code",
      "execution_count": 9,
      "id": "92709df1",
      "metadata": {
        "id": "92709df1"
      },
      "outputs": [],
      "source": [
        "num = 23\n",
        "list_noise = np.linspace(0, 0.22, num=num)"
      ]
    },
    {
      "cell_type": "code",
      "execution_count": 10,
      "id": "964599b4",
      "metadata": {
        "id": "964599b4"
      },
      "outputs": [],
      "source": [
        "def compute_all(list_noise,config_data,path_dataset,model,device,bs=32):\n",
        "    all_acc = np.zeros((len(list_noise),config_data['test']['num_examples_test']))\n",
        "    for i,noise in enumerate(list_noise):\n",
        "        config_data['test']['noise']=noise\n",
        "        gene_test = dg.QAP_Generator('test', config_data['test'], path_dataset)\n",
        "        gene_test.load_dataset()\n",
        "        test_loader = siamese_loader(gene_test, bs, gene_test.constant_n_vertices, shuffle=False)\n",
        "        _, all_acc[i,:] = all_losses_acc(test_loader,model,criterion,device,eval_score=accuracy_linear_assignment)\n",
        "    return all_acc"
      ]
    },
    {
      "cell_type": "markdown",
      "id": "2edc01ce",
      "metadata": {
        "id": "2edc01ce"
      },
      "source": [
        "# Inference\n",
        "\n",
        "The cell below will create dataset of graphs with various level of noise if they do not exist, otherwise it will only read them."
      ]
    },
    {
      "cell_type": "code",
      "execution_count": 11,
      "id": "9c9bd8cb",
      "metadata": {
        "id": "9c9bd8cb",
        "outputId": "6dc9930a-6068-410f-cbe2-211c0222ac31",
        "colab": {
          "base_uri": "https://localhost:8080/"
        }
      },
      "outputs": [
        {
          "output_type": "stream",
          "name": "stdout",
          "text": [
            "Reading dataset at /root/data/QAP_Regular_ErdosRenyi_1000_50_1.0_0.0_0.2/test.pkl\n"
          ]
        },
        {
          "output_type": "stream",
          "name": "stderr",
          "text": [
            "/usr/local/lib/python3.10/dist-packages/torch/utils/data/dataloader.py:560: UserWarning: This DataLoader will create 4 worker processes in total. Our suggested max number of worker in current system is 2, which is smaller than what this DataLoader is going to create. Please be aware that excessive worker creation might get DataLoader running slow or even freeze, lower the worker number to avoid potential slowness/freeze if necessary.\n",
            "  warnings.warn(_create_warning_msg(\n"
          ]
        },
        {
          "output_type": "stream",
          "name": "stdout",
          "text": [
            "Reading dataset at /root/data/QAP_Regular_ErdosRenyi_1000_50_1.0_0.01_0.2/test.pkl\n",
            "Reading dataset at /root/data/QAP_Regular_ErdosRenyi_1000_50_1.0_0.02_0.2/test.pkl\n",
            "Reading dataset at /root/data/QAP_Regular_ErdosRenyi_1000_50_1.0_0.03_0.2/test.pkl\n",
            "Reading dataset at /root/data/QAP_Regular_ErdosRenyi_1000_50_1.0_0.04_0.2/test.pkl\n",
            "Reading dataset at /root/data/QAP_Regular_ErdosRenyi_1000_50_1.0_0.05_0.2/test.pkl\n",
            "Reading dataset at /root/data/QAP_Regular_ErdosRenyi_1000_50_1.0_0.06_0.2/test.pkl\n",
            "Reading dataset at /root/data/QAP_Regular_ErdosRenyi_1000_50_1.0_0.07_0.2/test.pkl\n",
            "Reading dataset at /root/data/QAP_Regular_ErdosRenyi_1000_50_1.0_0.08_0.2/test.pkl\n",
            "Reading dataset at /root/data/QAP_Regular_ErdosRenyi_1000_50_1.0_0.09_0.2/test.pkl\n",
            "Reading dataset at /root/data/QAP_Regular_ErdosRenyi_1000_50_1.0_0.1_0.2/test.pkl\n",
            "Reading dataset at /root/data/QAP_Regular_ErdosRenyi_1000_50_1.0_0.11_0.2/test.pkl\n",
            "Reading dataset at /root/data/QAP_Regular_ErdosRenyi_1000_50_1.0_0.12_0.2/test.pkl\n",
            "Reading dataset at /root/data/QAP_Regular_ErdosRenyi_1000_50_1.0_0.13_0.2/test.pkl\n",
            "Reading dataset at /root/data/QAP_Regular_ErdosRenyi_1000_50_1.0_0.14_0.2/test.pkl\n",
            "Reading dataset at /root/data/QAP_Regular_ErdosRenyi_1000_50_1.0_0.15_0.2/test.pkl\n",
            "Reading dataset at /root/data/QAP_Regular_ErdosRenyi_1000_50_1.0_0.16_0.2/test.pkl\n",
            "Reading dataset at /root/data/QAP_Regular_ErdosRenyi_1000_50_1.0_0.17_0.2/test.pkl\n",
            "Reading dataset at /root/data/QAP_Regular_ErdosRenyi_1000_50_1.0_0.18_0.2/test.pkl\n",
            "Reading dataset at /root/data/QAP_Regular_ErdosRenyi_1000_50_1.0_0.19_0.2/test.pkl\n",
            "Reading dataset at /root/data/QAP_Regular_ErdosRenyi_1000_50_1.0_0.2_0.2/test.pkl\n",
            "Reading dataset at /root/data/QAP_Regular_ErdosRenyi_1000_50_1.0_0.21_0.2/test.pkl\n",
            "Reading dataset at /root/data/QAP_Regular_ErdosRenyi_1000_50_1.0_0.22_0.2/test.pkl\n"
          ]
        }
      ],
      "source": [
        "all_a = compute_all(list_noise,config_data,path_dataset,model,device);"
      ]
    },
    {
      "cell_type": "code",
      "execution_count": 12,
      "id": "f8000455",
      "metadata": {
        "id": "f8000455"
      },
      "outputs": [],
      "source": [
        "def compute_quant(all_acc,quant_low=0.1,quant_up=0.9):\n",
        "    median_acc = np.median(all_acc,1)\n",
        "    num = len(median_acc)\n",
        "    q_acc = np.zeros((num,2))\n",
        "    for i in range(num):\n",
        "        q_acc[i,:] = np.quantile(all_acc[i,:],[quant_low, quant_up])\n",
        "    return median_acc, q_acc\n",
        "\n",
        "def acc_2_error(median_acc, q_acc):\n",
        "    error = q_acc-median_acc[:,np.newaxis]\n",
        "    error[:,0] = -error[:,0]\n",
        "    return error"
      ]
    },
    {
      "cell_type": "markdown",
      "id": "343eac94",
      "metadata": {
        "id": "343eac94"
      },
      "source": [
        "# Results\n",
        "\n",
        "The FGNN has been trained with regular graphs with $50$ vertices, average degree $10$ and noise level $0.1$. The accuracy below is the fraction of matched vertices between two noisy versions of a given graph at various level of noise."
      ]
    },
    {
      "cell_type": "code",
      "execution_count": 13,
      "id": "e498d6e5",
      "metadata": {
        "id": "e498d6e5"
      },
      "outputs": [],
      "source": [
        "quant_low=0.1\n",
        "quant_up=0.9\n",
        "mc_50, q50 = compute_quant(all_a,quant_low=quant_low,quant_up=quant_up)"
      ]
    },
    {
      "cell_type": "code",
      "execution_count": 14,
      "id": "1cebcdf9",
      "metadata": {
        "id": "1cebcdf9",
        "outputId": "88428e6c-9710-479c-a613-05c40223f72f",
        "colab": {
          "base_uri": "https://localhost:8080/",
          "height": 472
        }
      },
      "outputs": [
        {
          "output_type": "display_data",
          "data": {
            "text/plain": [
              "<Figure size 640x480 with 1 Axes>"
            ],
            "image/png": "[encoded data removed]"
          },
          "metadata": {}
        }
      ],
      "source": [
        "error_50 = acc_2_error(mc_50,q50)\n",
        "\n",
        "plt.errorbar(list_noise,mc_50,yerr=error_50.T,label='FGNN (median)');\n",
        "plt.xlabel('noise (fraction of noisy edges)')\n",
        "plt.ylabel('accuracy')\n",
        "plt.title(f'Graphs with avg. degree 10 (quantiles {int(100*quant_low)}-{int(100*quant_up)}%)')\n",
        "plt.legend()\n",
        "plt.show()"
      ]
    },
    {
      "cell_type": "code",
      "execution_count": 14,
      "id": "41802f3f",
      "metadata": {
        "id": "41802f3f"
      },
      "outputs": [],
      "source": []
    }
  ],
  "metadata": {
    "kernelspec": {
      "display_name": "gnn12",
      "language": "python",
      "name": "gnn12"
    },
    "language_info": {
      "codemirror_mode": {
        "name": "ipython",
        "version": 3
      },
      "file_extension": ".py",
      "mimetype": "text/x-python",
      "name": "python",
      "nbconvert_exporter": "python",
      "pygments_lexer": "ipython3",
      "version": "3.8.2"
    },
    "colab": {
      "provenance": [],
      "include_colab_link": true
    }
  },
  "nbformat": 4,
  "nbformat_minor": 5
}